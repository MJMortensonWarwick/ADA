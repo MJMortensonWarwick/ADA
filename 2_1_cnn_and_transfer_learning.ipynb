{
  "nbformat": 4,
  "nbformat_minor": 0,
  "metadata": {
    "colab": {
      "provenance": [],
      "authorship_tag": "ABX9TyNHI+Ii11eEeZqZsT9KZbNo",
      "include_colab_link": true
    },
    "kernelspec": {
      "name": "python3",
      "display_name": "Python 3"
    },
    "language_info": {
      "name": "python"
    },
    "accelerator": "GPU"
  },
  "cells": [
    {
      "cell_type": "markdown",
      "metadata": {
        "id": "view-in-github",
        "colab_type": "text"
      },
      "source": [
        "<a href=\"https://colab.research.google.com/github/MJMortensonWarwick/ADA/blob/main/2_1_cnn_and_transfer_learning.ipynb\" target=\"_parent\"><img src=\"https://colab.research.google.com/assets/colab-badge.svg\" alt=\"Open In Colab\"/></a>"
      ]
    },
    {
      "cell_type": "markdown",
      "source": [
        "# Convolutional Neural Networks and Transfer Learning (Fine Tuning)\n",
        "This tutorial will start by walking through a custom-built CNN in Keras. We will be working with a chest x-ray set from Kaggle ([here](https://www.kaggle.com/paultimothymooney/chest-xray-pneumonia)) where we are predicting whether a paitent has pneumonia or not.\n",
        "\n",
        "To get the data we need an API key from Kaggle. Set up an account (if you haven't got one already) and then click on your avatar in the top right and \"Account\" from the dropdown menu. Scroll down the page and you'll find a button to \"Create New API Token\". This downloads an API key to your PC which you can upload here."
      ],
      "metadata": {
        "id": "X6oownATtXqZ"
      }
    },
    {
      "cell_type": "code",
      "source": [
        "from google.colab import files\n",
        "files.upload()"
      ],
      "metadata": {
        "id": "LHG_Y_YFFeEF",
        "outputId": "fea89d74-23c7-47de-d88e-ac5ff28b6c4e",
        "colab": {
          "base_uri": "https://localhost:8080/",
          "height": 91
        }
      },
      "execution_count": 27,
      "outputs": [
        {
          "output_type": "display_data",
          "data": {
            "text/plain": [
              "<IPython.core.display.HTML object>"
            ],
            "text/html": [
              "\n",
              "     <input type=\"file\" id=\"files-58037915-f014-47cd-a968-28c14fe21cd5\" name=\"files[]\" multiple disabled\n",
              "        style=\"border:none\" />\n",
              "     <output id=\"result-58037915-f014-47cd-a968-28c14fe21cd5\">\n",
              "      Upload widget is only available when the cell has been executed in the\n",
              "      current browser session. Please rerun this cell to enable.\n",
              "      </output>\n",
              "      <script>// Copyright 2017 Google LLC\n",
              "//\n",
              "// Licensed under the Apache License, Version 2.0 (the \"License\");\n",
              "// you may not use this file except in compliance with the License.\n",
              "// You may obtain a copy of the License at\n",
              "//\n",
              "//      http://www.apache.org/licenses/LICENSE-2.0\n",
              "//\n",
              "// Unless required by applicable law or agreed to in writing, software\n",
              "// distributed under the License is distributed on an \"AS IS\" BASIS,\n",
              "// WITHOUT WARRANTIES OR CONDITIONS OF ANY KIND, either express or implied.\n",
              "// See the License for the specific language governing permissions and\n",
              "// limitations under the License.\n",
              "\n",
              "/**\n",
              " * @fileoverview Helpers for google.colab Python module.\n",
              " */\n",
              "(function(scope) {\n",
              "function span(text, styleAttributes = {}) {\n",
              "  const element = document.createElement('span');\n",
              "  element.textContent = text;\n",
              "  for (const key of Object.keys(styleAttributes)) {\n",
              "    element.style[key] = styleAttributes[key];\n",
              "  }\n",
              "  return element;\n",
              "}\n",
              "\n",
              "// Max number of bytes which will be uploaded at a time.\n",
              "const MAX_PAYLOAD_SIZE = 100 * 1024;\n",
              "\n",
              "function _uploadFiles(inputId, outputId) {\n",
              "  const steps = uploadFilesStep(inputId, outputId);\n",
              "  const outputElement = document.getElementById(outputId);\n",
              "  // Cache steps on the outputElement to make it available for the next call\n",
              "  // to uploadFilesContinue from Python.\n",
              "  outputElement.steps = steps;\n",
              "\n",
              "  return _uploadFilesContinue(outputId);\n",
              "}\n",
              "\n",
              "// This is roughly an async generator (not supported in the browser yet),\n",
              "// where there are multiple asynchronous steps and the Python side is going\n",
              "// to poll for completion of each step.\n",
              "// This uses a Promise to block the python side on completion of each step,\n",
              "// then passes the result of the previous step as the input to the next step.\n",
              "function _uploadFilesContinue(outputId) {\n",
              "  const outputElement = document.getElementById(outputId);\n",
              "  const steps = outputElement.steps;\n",
              "\n",
              "  const next = steps.next(outputElement.lastPromiseValue);\n",
              "  return Promise.resolve(next.value.promise).then((value) => {\n",
              "    // Cache the last promise value to make it available to the next\n",
              "    // step of the generator.\n",
              "    outputElement.lastPromiseValue = value;\n",
              "    return next.value.response;\n",
              "  });\n",
              "}\n",
              "\n",
              "/**\n",
              " * Generator function which is called between each async step of the upload\n",
              " * process.\n",
              " * @param {string} inputId Element ID of the input file picker element.\n",
              " * @param {string} outputId Element ID of the output display.\n",
              " * @return {!Iterable<!Object>} Iterable of next steps.\n",
              " */\n",
              "function* uploadFilesStep(inputId, outputId) {\n",
              "  const inputElement = document.getElementById(inputId);\n",
              "  inputElement.disabled = false;\n",
              "\n",
              "  const outputElement = document.getElementById(outputId);\n",
              "  outputElement.innerHTML = '';\n",
              "\n",
              "  const pickedPromise = new Promise((resolve) => {\n",
              "    inputElement.addEventListener('change', (e) => {\n",
              "      resolve(e.target.files);\n",
              "    });\n",
              "  });\n",
              "\n",
              "  const cancel = document.createElement('button');\n",
              "  inputElement.parentElement.appendChild(cancel);\n",
              "  cancel.textContent = 'Cancel upload';\n",
              "  const cancelPromise = new Promise((resolve) => {\n",
              "    cancel.onclick = () => {\n",
              "      resolve(null);\n",
              "    };\n",
              "  });\n",
              "\n",
              "  // Wait for the user to pick the files.\n",
              "  const files = yield {\n",
              "    promise: Promise.race([pickedPromise, cancelPromise]),\n",
              "    response: {\n",
              "      action: 'starting',\n",
              "    }\n",
              "  };\n",
              "\n",
              "  cancel.remove();\n",
              "\n",
              "  // Disable the input element since further picks are not allowed.\n",
              "  inputElement.disabled = true;\n",
              "\n",
              "  if (!files) {\n",
              "    return {\n",
              "      response: {\n",
              "        action: 'complete',\n",
              "      }\n",
              "    };\n",
              "  }\n",
              "\n",
              "  for (const file of files) {\n",
              "    const li = document.createElement('li');\n",
              "    li.append(span(file.name, {fontWeight: 'bold'}));\n",
              "    li.append(span(\n",
              "        `(${file.type || 'n/a'}) - ${file.size} bytes, ` +\n",
              "        `last modified: ${\n",
              "            file.lastModifiedDate ? file.lastModifiedDate.toLocaleDateString() :\n",
              "                                    'n/a'} - `));\n",
              "    const percent = span('0% done');\n",
              "    li.appendChild(percent);\n",
              "\n",
              "    outputElement.appendChild(li);\n",
              "\n",
              "    const fileDataPromise = new Promise((resolve) => {\n",
              "      const reader = new FileReader();\n",
              "      reader.onload = (e) => {\n",
              "        resolve(e.target.result);\n",
              "      };\n",
              "      reader.readAsArrayBuffer(file);\n",
              "    });\n",
              "    // Wait for the data to be ready.\n",
              "    let fileData = yield {\n",
              "      promise: fileDataPromise,\n",
              "      response: {\n",
              "        action: 'continue',\n",
              "      }\n",
              "    };\n",
              "\n",
              "    // Use a chunked sending to avoid message size limits. See b/62115660.\n",
              "    let position = 0;\n",
              "    do {\n",
              "      const length = Math.min(fileData.byteLength - position, MAX_PAYLOAD_SIZE);\n",
              "      const chunk = new Uint8Array(fileData, position, length);\n",
              "      position += length;\n",
              "\n",
              "      const base64 = btoa(String.fromCharCode.apply(null, chunk));\n",
              "      yield {\n",
              "        response: {\n",
              "          action: 'append',\n",
              "          file: file.name,\n",
              "          data: base64,\n",
              "        },\n",
              "      };\n",
              "\n",
              "      let percentDone = fileData.byteLength === 0 ?\n",
              "          100 :\n",
              "          Math.round((position / fileData.byteLength) * 100);\n",
              "      percent.textContent = `${percentDone}% done`;\n",
              "\n",
              "    } while (position < fileData.byteLength);\n",
              "  }\n",
              "\n",
              "  // All done.\n",
              "  yield {\n",
              "    response: {\n",
              "      action: 'complete',\n",
              "    }\n",
              "  };\n",
              "}\n",
              "\n",
              "scope.google = scope.google || {};\n",
              "scope.google.colab = scope.google.colab || {};\n",
              "scope.google.colab._files = {\n",
              "  _uploadFiles,\n",
              "  _uploadFilesContinue,\n",
              "};\n",
              "})(self);\n",
              "</script> "
            ]
          },
          "metadata": {}
        },
        {
          "output_type": "stream",
          "name": "stdout",
          "text": [
            "Saving kaggle.json to kaggle (1).json\n"
          ]
        },
        {
          "output_type": "execute_result",
          "data": {
            "text/plain": [
              "{'kaggle (1).json': b'{\"username\":\"mjmortenson\",\"key\":\"8eecfe5273369a148b04450f0c448fb5\"}'}"
            ]
          },
          "metadata": {},
          "execution_count": 27
        }
      ]
    },
    {
      "cell_type": "markdown",
      "source": [
        "Next we need to move this to a folder called kaggle as this is where Colab will look (Linux commands):"
      ],
      "metadata": {
        "id": "iBOOZx3Kuey-"
      }
    },
    {
      "cell_type": "code",
      "source": [
        "!mkdir -p ~/.kaggle\n",
        "!cp kaggle.json ~/.kaggle/\n",
        "!chmod 600 /root/.kaggle/kaggle.json"
      ],
      "metadata": {
        "id": "pU043sJiFjet"
      },
      "execution_count": 28,
      "outputs": []
    },
    {
      "cell_type": "markdown",
      "source": [
        "## Data Extraction\n",
        "Now you can download the data. The following can be used for any Kaggle dataset. When you are on the dataset page click the three vertical dots on the right and select \"Copy API command\". This gives you code that looks like below (but add a \"!\" at the start):"
      ],
      "metadata": {
        "id": "EPsEVPNyuoo4"
      }
    },
    {
      "cell_type": "code",
      "execution_count": null,
      "metadata": {
        "id": "048YVK6TChZV"
      },
      "outputs": [],
      "source": [
        "!kaggle datasets download -d paultimothymooney/chest-xray-pneumonia"
      ]
    },
    {
      "cell_type": "markdown",
      "source": [
        "This has added the data as a zip folder. We can unzip it and create a new folder (Linux again):"
      ],
      "metadata": {
        "id": "yddDe7JWvFEY"
      }
    },
    {
      "cell_type": "code",
      "source": [
        "!unzip chest-xray-pneumonia.zip -d chest-xray-pneumonia"
      ],
      "metadata": {
        "id": "pf7pLBawF3e0"
      },
      "execution_count": null,
      "outputs": []
    },
    {
      "cell_type": "markdown",
      "source": [
        "For ease we will create some variables to store the path to the directories:"
      ],
      "metadata": {
        "id": "NSE9XpymvNeS"
      }
    },
    {
      "cell_type": "code",
      "source": [
        "train_dir = \"/content/chest-xray-pneumonia/chest_xray/train\"\n",
        "test_dir = \"/content/chest-xray-pneumonia/chest_xray/test\"\n",
        "val_dir = \"/content/chest-xray-pneumonia/chest_xray/val\""
      ],
      "metadata": {
        "id": "yOQLobhOZsI3"
      },
      "execution_count": null,
      "outputs": []
    },
    {
      "cell_type": "markdown",
      "source": [
        "## Data Augmentations\n",
        "Now we can add a generator to create augmentations.\n",
        "\n",
        "For test and validation we just want to normalise (divide by 255 pixels). For the training you have some additional choices! Which of the augmentations would be appropriate for our problem? What values should you choose if so? These are ultimately domain questions we need to consider,"
      ],
      "metadata": {
        "id": "xbsVBVhIvSom"
      }
    },
    {
      "cell_type": "code",
      "source": [
        "from keras.preprocessing.image import ImageDataGenerator\n",
        "\n",
        "# delete the '#' for any augmentation you want to include. Also add the chosen value to replace {ENTER}.\n",
        "train_datagen = ImageDataGenerator(rescale = 1./255,\n",
        "                                   #rotation_range = {ENTER}, # set the number of degrees to rotate either side.\n",
        "                                   #zoom_range = {ENTER}, # what % zooming should occur\n",
        "                                   #width_shift_range = {ENTER}, # what % left or right shifting should occur\n",
        "                                   #height_shift_range = {ENTER}, # what % up or down shifting should occur\n",
        "                                   #horizontal_flip = {ENTER}, # flip the image as a mirror - True or False\n",
        "                                   #vertical_flip = {ENTER} # flip the image upside down - True or False\n",
        "                                   )\n",
        "val_datagen = ImageDataGenerator(rescale = 1./255)\n",
        "test_datagen = ImageDataGenerator(rescale = 1./255)"
      ],
      "metadata": {
        "id": "jO5TafUH1d1n"
      },
      "execution_count": null,
      "outputs": []
    },
    {
      "cell_type": "markdown",
      "source": [
        "Finally we can create our dataset variables with a batch size of 16. We'll also shrink down the images to 64x64 pixels:"
      ],
      "metadata": {
        "id": "W6CX02TeveDr"
      }
    },
    {
      "cell_type": "code",
      "source": [
        "batch_size = 16\n",
        "training_set = train_datagen.flow_from_directory(train_dir,\n",
        "                                                 target_size = (64, 64),\n",
        "                                                 batch_size = batch_size,\n",
        "                                                 class_mode = \"binary\")\n",
        "val_set = val_datagen.flow_from_directory(val_dir,\n",
        "                                          target_size = (64, 64),\n",
        "                                          batch_size = batch_size,\n",
        "                                          class_mode = 'binary')\n",
        "test_set = test_datagen.flow_from_directory(test_dir,\n",
        "                                            target_size = (64, 64),\n",
        "                                            batch_size = batch_size,\n",
        "                                            class_mode = 'binary')"
      ],
      "metadata": {
        "id": "97-mr-zZZ5ys",
        "colab": {
          "base_uri": "https://localhost:8080/"
        },
        "outputId": "db457ae9-43b7-4493-9df4-19fd9fbab5da"
      },
      "execution_count": 33,
      "outputs": [
        {
          "output_type": "stream",
          "name": "stdout",
          "text": [
            "Found 5216 images belonging to 2 classes.\n",
            "Found 16 images belonging to 2 classes.\n",
            "Found 624 images belonging to 2 classes.\n"
          ]
        }
      ]
    },
    {
      "cell_type": "markdown",
      "source": [
        "## Custom Convolutional Neural Network\n",
        "Now we can build our model:"
      ],
      "metadata": {
        "id": "8S2rBMlQvpHE"
      }
    },
    {
      "cell_type": "code",
      "source": [
        "from keras.models import Sequential\n",
        "from keras.layers import Dense, Dropout, Flatten, BatchNormalization\n",
        "from keras.layers import Conv2D, MaxPooling2D\n",
        "\n",
        "cnn = Sequential() # again we add as a sequence as this is feed forward"
      ],
      "metadata": {
        "id": "Mr2QKKhWa67K"
      },
      "execution_count": 34,
      "outputs": []
    },
    {
      "cell_type": "code",
      "source": [
        "# add each layer in sequence\n",
        "cnn.add(Conv2D(filters=32, kernel_size=3, activation='relu', input_shape=(64, 64, 3))) # input is 64x64 images in 3 channels\n",
        "cnn.add(BatchNormalization())\n",
        "cnn.add(MaxPooling2D(pool_size=2, strides=2, padding='SAME'))\n",
        "cnn.add(Conv2D(filters=64, kernel_size=3, activation='relu'))\n",
        "cnn.add(BatchNormalization())\n",
        "cnn.add(MaxPooling2D(pool_size=2, strides=2, padding='SAME'))\n",
        "cnn.add(Flatten())\n",
        "cnn.add(Dense(64, activation='relu'))\n",
        "cnn.add(Dropout(0.25))\n",
        "cnn.add(Dense(1, activation='sigmoid')) # 1 neuron as binary prediction"
      ],
      "metadata": {
        "id": "zdzRvTSQvrR7"
      },
      "execution_count": 35,
      "outputs": []
    },
    {
      "cell_type": "code",
      "source": [
        "cnn.summary()"
      ],
      "metadata": {
        "id": "_IlHEQuEv94K",
        "colab": {
          "base_uri": "https://localhost:8080/"
        },
        "outputId": "68fea11c-bf82-41df-e2c7-fc33341d819b"
      },
      "execution_count": 36,
      "outputs": [
        {
          "output_type": "stream",
          "name": "stdout",
          "text": [
            "Model: \"sequential_2\"\n",
            "_________________________________________________________________\n",
            " Layer (type)                Output Shape              Param #   \n",
            "=================================================================\n",
            " conv2d_2 (Conv2D)           (None, 62, 62, 32)        896       \n",
            "                                                                 \n",
            " batch_normalization_5 (Bat  (None, 62, 62, 32)        128       \n",
            " chNormalization)                                                \n",
            "                                                                 \n",
            " max_pooling2d_2 (MaxPoolin  (None, 31, 31, 32)        0         \n",
            " g2D)                                                            \n",
            "                                                                 \n",
            " conv2d_3 (Conv2D)           (None, 29, 29, 64)        18496     \n",
            "                                                                 \n",
            " batch_normalization_6 (Bat  (None, 29, 29, 64)        256       \n",
            " chNormalization)                                                \n",
            "                                                                 \n",
            " max_pooling2d_3 (MaxPoolin  (None, 15, 15, 64)        0         \n",
            " g2D)                                                            \n",
            "                                                                 \n",
            " flatten_1 (Flatten)         (None, 14400)             0         \n",
            "                                                                 \n",
            " dense_5 (Dense)             (None, 64)                921664    \n",
            "                                                                 \n",
            " dropout_1 (Dropout)         (None, 64)                0         \n",
            "                                                                 \n",
            " dense_6 (Dense)             (None, 1)                 65        \n",
            "                                                                 \n",
            "=================================================================\n",
            "Total params: 941505 (3.59 MB)\n",
            "Trainable params: 941313 (3.59 MB)\n",
            "Non-trainable params: 192 (768.00 Byte)\n",
            "_________________________________________________________________\n"
          ]
        }
      ]
    },
    {
      "cell_type": "markdown",
      "source": [
        "Nearly a million parameters to learn! We better get busy:"
      ],
      "metadata": {
        "id": "Agm_F6Ievs3u"
      }
    },
    {
      "cell_type": "code",
      "source": [
        "from keras import losses\n",
        "\n",
        "cnn.compile(optimizer = 'adam',\n",
        "            loss = losses.BinaryCrossentropy(),\n",
        "            metrics = ['Recall'])\n",
        "\n",
        "history = cnn.fit(training_set, validation_data = val_set, epochs = 10)"
      ],
      "metadata": {
        "id": "QOsv91bPwNMC",
        "colab": {
          "base_uri": "https://localhost:8080/"
        },
        "outputId": "1d419314-c42c-460f-a54e-dd306ff80d67"
      },
      "execution_count": 37,
      "outputs": [
        {
          "output_type": "stream",
          "name": "stdout",
          "text": [
            "Epoch 1/10\n",
            "326/326 [==============================] - 84s 253ms/step - loss: 0.2476 - recall: 0.9535 - val_loss: 4.5796 - val_recall: 1.0000\n",
            "Epoch 2/10\n",
            "326/326 [==============================] - 84s 257ms/step - loss: 0.1331 - recall: 0.9680 - val_loss: 0.3741 - val_recall: 0.7500\n",
            "Epoch 3/10\n",
            "326/326 [==============================] - 81s 249ms/step - loss: 0.0909 - recall: 0.9763 - val_loss: 0.4387 - val_recall: 1.0000\n",
            "Epoch 4/10\n",
            "326/326 [==============================] - 83s 254ms/step - loss: 0.0920 - recall: 0.9788 - val_loss: 1.7013 - val_recall: 0.3750\n",
            "Epoch 5/10\n",
            "326/326 [==============================] - 81s 247ms/step - loss: 0.0728 - recall: 0.9827 - val_loss: 0.4000 - val_recall: 1.0000\n",
            "Epoch 6/10\n",
            "326/326 [==============================] - 81s 248ms/step - loss: 0.0676 - recall: 0.9822 - val_loss: 0.9276 - val_recall: 1.0000\n",
            "Epoch 7/10\n",
            "326/326 [==============================] - 80s 246ms/step - loss: 0.0691 - recall: 0.9840 - val_loss: 1.6331 - val_recall: 1.0000\n",
            "Epoch 8/10\n",
            "326/326 [==============================] - 81s 247ms/step - loss: 0.0446 - recall: 0.9863 - val_loss: 0.0943 - val_recall: 1.0000\n",
            "Epoch 9/10\n",
            "326/326 [==============================] - 82s 249ms/step - loss: 0.0392 - recall: 0.9894 - val_loss: 0.1219 - val_recall: 0.8750\n",
            "Epoch 10/10\n",
            "326/326 [==============================] - 81s 247ms/step - loss: 0.0394 - recall: 0.9902 - val_loss: 0.7474 - val_recall: 1.0000\n"
          ]
        }
      ]
    },
    {
      "cell_type": "markdown",
      "source": [
        "## Results\n",
        "Let's visualise the results:"
      ],
      "metadata": {
        "id": "4Stqkqz8vyaT"
      }
    },
    {
      "cell_type": "code",
      "source": [
        "import matplotlib.pyplot as plt\n",
        "\n",
        "plt.plot(history.history['recall'], label='recall')\n",
        "plt.plot(history.history['val_recall'], label = 'val_recall')\n",
        "plt.xlabel('Epoch')\n",
        "plt.ylabel('Recall')\n",
        "plt.ylim([0.5, 1])\n",
        "plt.legend(loc='lower right')"
      ],
      "metadata": {
        "id": "n0imJ0dF903y",
        "colab": {
          "base_uri": "https://localhost:8080/",
          "height": 473
        },
        "outputId": "9dc8a836-8f71-4107-e759-548bac57cf32"
      },
      "execution_count": 38,
      "outputs": [
        {
          "output_type": "execute_result",
          "data": {
            "text/plain": [
              "<matplotlib.legend.Legend at 0x7f7a53fcfd00>"
            ]
          },
          "metadata": {},
          "execution_count": 38
        },
        {
          "output_type": "display_data",
          "data": {
            "text/plain": [
              "<Figure size 640x480 with 1 Axes>"
            ],
            "image/png": "[encoded data removed]"
          },
          "metadata": {}
        }
      ]
    },
    {
      "cell_type": "markdown",
      "source": [
        "We can see recall on the training set has steadily improved. On the validation set its all over the place but then that's only 16 images. Let's see how we do on test:"
      ],
      "metadata": {
        "id": "d3PkH6Mxv12T"
      }
    },
    {
      "cell_type": "code",
      "source": [
        "test_loss, test_recall = cnn.evaluate(test_set)"
      ],
      "metadata": {
        "id": "hj6T_9_A-jtn",
        "colab": {
          "base_uri": "https://localhost:8080/"
        },
        "outputId": "12750e2a-9a20-4820-d0b0-de26ff66fd6c"
      },
      "execution_count": 39,
      "outputs": [
        {
          "output_type": "stream",
          "name": "stdout",
          "text": [
            "39/39 [==============================] - 6s 157ms/step - loss: 2.2023 - recall: 0.9949\n"
          ]
        }
      ]
    },
    {
      "cell_type": "markdown",
      "source": [
        "99% recall and relatively small loss (cross entropy). Our model seems to do pretty well ... but, would it be better if we tried transfer learning?"
      ],
      "metadata": {
        "id": "UXoMUScAwBdy"
      }
    },
    {
      "cell_type": "markdown",
      "source": [
        "## Transfer Learning (Fine Tuning)\n",
        "Now we will try transfer learning from a backbone model - the modern update of CNNs [EfficientNet](https://arxiv.org/abs/1905.11946).\n",
        "\n",
        "We will import the model, change the input shape (64x64 as before with 3 channels ... more on this later) and use the initial learned from the imagenet dataset to make a backbone feature extractor.\n",
        "\n",
        "Note we use _include\\_top=False_ to remove the classifier from the top. You can then replace this with your own classifier model!"
      ],
      "metadata": {
        "id": "DHdvs8raCWGF"
      }
    },
    {
      "cell_type": "code",
      "source": [
        "from tensorflow.keras.applications import EfficientNetB0\n",
        "from keras.layers import GlobalAveragePooling2D\n",
        "\n",
        "backbone = EfficientNetB0(include_top=False, weights='imagenet', input_shape=(64, 64, 3))\n",
        "\n",
        "# Freeze the pretrained weights\n",
        "backbone.trainable = False\n",
        "\n",
        "# build a classifier on top\n",
        "# note the input here is the backbone output (the feature extractor) not a normal input layer\n",
        "x = GlobalAveragePooling2D(name=\"avg_pool\")(backbone.output)\n",
        "x = BatchNormalization()(x) # our input for this new layer is 'x' - the previous layer\n",
        "\n",
        "# add any further layers here in the same manor\n",
        "# list each as 'x = ...'\n",
        "# and add '(x)' to the end each time\n",
        "\n",
        "outputs = Dense(1, activation='sigmoid')(x)\n"
      ],
      "metadata": {
        "id": "iKbTeYxvCv3F"
      },
      "execution_count": 45,
      "outputs": []
    },
    {
      "cell_type": "markdown",
      "source": [
        "Note, however, that EfficientNet assumes an RGB input rather than the greyscale input we are working with. This is easily fixed by tweaking our flow from directory code:"
      ],
      "metadata": {
        "id": "lx4sStg2OHe5"
      }
    },
    {
      "cell_type": "code",
      "source": [
        "batch_size = 16\n",
        "training_set = train_datagen.flow_from_directory(train_dir,\n",
        "                                                 target_size = (64, 64),\n",
        "                                                 color_mode = \"rgb\", # change colour mode\n",
        "                                                 batch_size = batch_size,\n",
        "                                                 class_mode = \"binary\")\n",
        "val_set = val_datagen.flow_from_directory(val_dir,\n",
        "                                          target_size = (64, 64),\n",
        "                                          color_mode = \"rgb\",\n",
        "                                          batch_size = batch_size,\n",
        "                                          class_mode = 'binary')\n",
        "test_set = test_datagen.flow_from_directory(test_dir,\n",
        "                                            target_size = (64, 64),\n",
        "                                            color_mode = \"rgb\",\n",
        "                                            batch_size = batch_size,\n",
        "                                            class_mode = 'binary')"
      ],
      "metadata": {
        "colab": {
          "base_uri": "https://localhost:8080/"
        },
        "id": "8OGBfG4uCxiF",
        "outputId": "05e675d5-99af-4ad5-d694-91932847b92c"
      },
      "execution_count": 46,
      "outputs": [
        {
          "output_type": "stream",
          "name": "stdout",
          "text": [
            "Found 5216 images belonging to 2 classes.\n",
            "Found 16 images belonging to 2 classes.\n",
            "Found 624 images belonging to 2 classes.\n"
          ]
        }
      ]
    },
    {
      "cell_type": "markdown",
      "source": [
        "And then we can train the model as before:"
      ],
      "metadata": {
        "id": "BoJ3RdpoOrgZ"
      }
    },
    {
      "cell_type": "code",
      "source": [
        "from keras import losses, Model\n",
        "from keras.optimizers import Adam\n",
        "from keras.layers import Input\n",
        "\n",
        "optimiser = Adam(learning_rate=1e-2) # lower learning rate\n",
        "\n",
        "enet = Model(backbone.input, outputs)\n",
        "\n",
        "enet.compile(optimizer = optimiser,\n",
        "            loss = losses.BinaryCrossentropy(),\n",
        "            metrics = ['Recall'])\n",
        "\n",
        "history_two = enet.fit(training_set, validation_data = val_set, epochs = 5) # 5 epochs to save time"
      ],
      "metadata": {
        "colab": {
          "base_uri": "https://localhost:8080/"
        },
        "id": "AgNA4ApkEJ6V",
        "outputId": "0f6ec94f-be16-44c7-fcb2-887c76c55254"
      },
      "execution_count": 47,
      "outputs": [
        {
          "output_type": "stream",
          "name": "stdout",
          "text": [
            "Epoch 1/5\n",
            "326/326 [==============================] - 87s 244ms/step - loss: 0.6840 - recall: 0.8808 - val_loss: 0.6995 - val_recall: 1.0000\n",
            "Epoch 2/5\n",
            "326/326 [==============================] - 72s 222ms/step - loss: 0.5853 - recall: 0.9210 - val_loss: 1.0619 - val_recall: 1.0000\n",
            "Epoch 3/5\n",
            "326/326 [==============================] - 73s 223ms/step - loss: 0.5469 - recall: 0.9399 - val_loss: 1.0611 - val_recall: 1.0000\n",
            "Epoch 4/5\n",
            "326/326 [==============================] - 73s 223ms/step - loss: 0.5423 - recall: 0.9394 - val_loss: 0.8768 - val_recall: 1.0000\n",
            "Epoch 5/5\n",
            "326/326 [==============================] - 72s 220ms/step - loss: 0.5211 - recall: 0.9306 - val_loss: 0.9758 - val_recall: 1.0000\n"
          ]
        }
      ]
    },
    {
      "cell_type": "code",
      "source": [
        "plt.plot(history_two.history['recall'], label='recall')\n",
        "plt.plot(history_two.history['val_recall'], label = 'val_recall')\n",
        "plt.xlabel('Epoch')\n",
        "plt.ylabel('Recall')\n",
        "plt.ylim([0.5, 1])\n",
        "plt.legend(loc='lower right')"
      ],
      "metadata": {
        "id": "USIkFX8dMGrr",
        "colab": {
          "base_uri": "https://localhost:8080/",
          "height": 473
        },
        "outputId": "a697f690-703d-4d67-c363-751cd4c9a661"
      },
      "execution_count": 48,
      "outputs": [
        {
          "output_type": "execute_result",
          "data": {
            "text/plain": [
              "<matplotlib.legend.Legend at 0x7f7a40149a80>"
            ]
          },
          "metadata": {},
          "execution_count": 48
        },
        {
          "output_type": "display_data",
          "data": {
            "text/plain": [
              "<Figure size 640x480 with 1 Axes>"
            ],
            "image/png": "[encoded data removed]"
          },
          "metadata": {}
        }
      ]
    },
    {
      "cell_type": "markdown",
      "source": [
        "Your results may vary from this depending on the layers you have added and the augmentations selected. We can end by evaluating the test set:"
      ],
      "metadata": {
        "id": "QAMVpxlDOwqQ"
      }
    },
    {
      "cell_type": "code",
      "source": [
        "test_loss, test_recall = enet.evaluate(test_set)"
      ],
      "metadata": {
        "id": "f6Im-lNRMQz9",
        "colab": {
          "base_uri": "https://localhost:8080/"
        },
        "outputId": "93bc97ad-f07d-41a8-9b1d-a05680382244"
      },
      "execution_count": 49,
      "outputs": [
        {
          "output_type": "stream",
          "name": "stdout",
          "text": [
            "39/39 [==============================] - 9s 235ms/step - loss: 0.7001 - recall: 1.0000\n"
          ]
        }
      ]
    },
    {
      "cell_type": "markdown",
      "source": [
        "Again, results may differ, but mine are certainly better! Well done transfer learning 👍"
      ],
      "metadata": {
        "id": "0830oq8KO8Os"
      }
    }
  ]
}